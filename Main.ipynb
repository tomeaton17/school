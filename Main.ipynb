{
 "cells": [
  {
   "cell_type": "code",
   "execution_count": 3,
   "metadata": {
    "collapsed": false
   },
   "outputs": [
    {
     "name": "stderr",
     "output_type": "stream",
     "text": [
      "/home/tom/anaconda3/lib/python3.5/site-packages/matplotlib/font_manager.py:273: UserWarning: Matplotlib is building the font cache using fc-list. This may take a moment.\n",
      "  warnings.warn('Matplotlib is building the font cache using fc-list. This may take a moment.')\n",
      "/home/tom/anaconda3/lib/python3.5/site-packages/matplotlib/font_manager.py:273: UserWarning: Matplotlib is building the font cache using fc-list. This may take a moment.\n",
      "  warnings.warn('Matplotlib is building the font cache using fc-list. This may take a moment.')\n"
     ]
    },
    {
     "name": "stdout",
     "output_type": "stream",
     "text": [
      "1000 1000\n"
     ]
    },
    {
     "data": {
      "image/png": "[encoded data removed]",
      "text/plain": [
       "<matplotlib.figure.Figure at 0x7fcfc502ee80>"
      ]
     },
     "metadata": {},
     "output_type": "display_data"
    }
   ],
   "source": [
    "# %load radioactivedecay.py\n",
    "import matplotlib.pyplot as plt\n",
    "import numpy as np\n",
    "\n",
    "n0 = 50000000  # Initial number of particles in sample\n",
    "decayConstant = 0.000000000000000001  # Decay constant of the sample\n",
    "tMax = 1 / decayConstant * 10  # Maximum time to run program\n",
    "deltaT = 0.01 * 1 / decayConstant  # Length of time between each calculation\n",
    "xValues = np.arange(0, tMax, deltaT)  # Populates the array with time values from 0 to tMax with increment deltaT.\n",
    "yValues = []  # Initialising yValues array\n",
    "\n",
    "yValues = n0 * (\n",
    "    np.exp(-decayConstant * xValues))  # Go through all yValues and calculate the particles remaining at that time\n",
    "\n",
    "print(len(xValues), len(yValues))\n",
    "xValues = np.asarray(xValues)\n",
    "yValues = np.asarray(yValues)\n",
    "plt.plot(xValues, yValues)  # Calling matplotlib to plot x and y values\n",
    "plt.axis([0, tMax * 0.8, 0, n0])\n",
    "plt.show()  # Printing graph to screen\n"
   ]
  },
  {
   "cell_type": "code",
   "execution_count": null,
   "metadata": {
    "collapsed": true
   },
   "outputs": [],
   "source": []
  }
 ],
 "metadata": {
  "anaconda-cloud": {},
  "kernelspec": {
   "display_name": "Python [conda root]",
   "language": "python",
   "name": "conda-root-py"
  },
  "language_info": {
   "codemirror_mode": {
    "name": "ipython",
    "version": 3
   },
   "file_extension": ".py",
   "mimetype": "text/x-python",
   "name": "python",
   "nbconvert_exporter": "python",
   "pygments_lexer": "ipython3",
   "version": "3.5.2"
  }
 },
 "nbformat": 4,
 "nbformat_minor": 1
}
